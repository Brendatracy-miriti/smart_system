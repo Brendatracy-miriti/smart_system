{
 "cells": [
  {
   "cell_type": "code",
   "execution_count": 1,
   "id": "cb9b26fe",
   "metadata": {},
   "outputs": [],
   "source": [
    "# --- 1. Import libraries ---\n",
    "import pandas as pd\n",
    "import numpy as np\n",
    "import seaborn as sns\n",
    "import matplotlib.pyplot as plt\n",
    "from sklearn.model_selection import train_test_split\n",
    "from sklearn.linear_model import LogisticRegression\n",
    "from sklearn.tree import DecisionTreeClassifier, plot_tree\n",
    "from sklearn.metrics import classification_report, confusion_matrix, accuracy_score, roc_auc_score\n",
    "import joblib"
   ]
  },
  {
   "cell_type": "code",
   "execution_count": 2,
   "id": "9dab2556",
   "metadata": {},
   "outputs": [],
   "source": [
    "# --- 2. Simulate the dataset ---\n",
    "np.random.seed(42)\n",
    "n = 500  # number of students\n",
    "\n",
    "data = pd.DataFrame({\n",
    "    'student_id': range(1, n+1),\n",
    "    'attendance_pct': np.clip(np.random.normal(85, 10, n), 40, 100).astype(int),\n",
    "    'grades_avg': np.clip(np.random.normal(70, 15, n), 30, 100).astype(int),\n",
    "    'discipline_count': np.random.poisson(0.7, n),\n",
    "    'clubs_participation': np.random.choice([0,1], n, p=[0.6,0.4]),\n",
    "    'family_support': np.random.randint(1,6, n)\n",
    "})"
   ]
  }
 ],
 "metadata": {
  "kernelspec": {
   "display_name": "Python 3",
   "language": "python",
   "name": "python3"
  },
  "language_info": {
   "codemirror_mode": {
    "name": "ipython",
    "version": 3
   },
   "file_extension": ".py",
   "mimetype": "text/x-python",
   "name": "python",
   "nbconvert_exporter": "python",
   "pygments_lexer": "ipython3",
   "version": "3.12.3"
  }
 },
 "nbformat": 4,
 "nbformat_minor": 5
}
